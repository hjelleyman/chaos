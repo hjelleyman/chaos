{
 "cells": [
  {
   "cell_type": "markdown",
   "metadata": {},
   "source": [
    "# Accelerated\n",
    "\n",
    "Trying to use Cupy to accelerate the code."
   ]
  },
  {
   "cell_type": "code",
   "execution_count": 1,
   "metadata": {},
   "outputs": [],
   "source": [
    "import numpy as np\n",
    "import xarray as xr\n",
    "import itertools\n",
    "import time\n",
    "\n",
    "from modules import *\n",
    "\n",
    "%load_ext autoreload\n",
    "%autoreload 2"
   ]
  },
  {
   "cell_type": "code",
   "execution_count": 6,
   "metadata": {},
   "outputs": [],
   "source": [
    "amin = 0.5\n",
    "amax = 1\n",
    "lmin = 0.5\n",
    "lmax = 1\n",
    "da = 0.01\n",
    "dl =0.01 \n",
    "ablocks = 10\n",
    "lblocks = 10"
   ]
  },
  {
   "cell_type": "code",
   "execution_count": 7,
   "metadata": {},
   "outputs": [],
   "source": [
    "x = np.linspace(-10,10,10)\n",
    "y = np.linspace(-10,10,10)\n",
    "\n",
    "l = np.arange(lmin,lmax,dl)\n",
    "a = np.arange(amin,amax,da)\n",
    "\n",
    "n_transient = 10000\n",
    "n_attractor = 10000"
   ]
  },
  {
   "cell_type": "code",
   "execution_count": 8,
   "metadata": {},
   "outputs": [],
   "source": [
    "lblocked, ablocked = main.block_la(l,a,lblocks,ablocks)\n",
    "\n",
    "lyapunov_1 = xr.DataArray(np.zeros([len(x),len(y),len(l),len(a)]),coords={'x':x,'y':y,'l':l,'a':a}, dims = ['x', 'y', 'l', 'a'])\n",
    "lyapunov_2 = xr.DataArray(np.zeros([len(x),len(y),len(l),len(a)]),coords={'x':x,'y':y,'l':l,'a':a}, dims = ['x', 'y', 'l', 'a'])"
   ]
  },
  {
   "cell_type": "code",
   "execution_count": null,
   "metadata": {},
   "outputs": [
    {
     "name": "stdout",
     "output_type": "stream",
     "text": [
      "Iterating over the transient of 10000 steps\n",
      "    Done in 0.06 s\n",
      "Iterating over the attractor of 10000 steps\n",
      "    Done in 0.44 s\n",
      "Generating initial conditions\n",
      "    Done in 0.00 s\n",
      "Calculating the Jacobian Matrix for each point\n"
     ]
    },
    {
     "name": "stderr",
     "output_type": "stream",
     "text": [
      "  1%|█▌                                                                                                                                                                                                 | 79/10000 [00:00<00:12, 774.73it/s]"
     ]
    },
    {
     "name": "stdout",
     "output_type": "stream",
     "text": [
      "    Done in 1.50 s\n",
      "System set up for analysis\n",
      "Calculating the Lyapunov Exponents\n"
     ]
    },
    {
     "name": "stderr",
     "output_type": "stream",
     "text": [
      "100%|████████████████████████████████████████████████████████████████████████████████████████████████████████████████████████████████████████████████████████████████████████████████████████████████| 10000/10000 [00:12<00:00, 781.33it/s]\n"
     ]
    },
    {
     "name": "stdout",
     "output_type": "stream",
     "text": [
      "This took 13.15 seconds to run\n",
      "This took 13.50 seconds to run\n",
      "1/100 in 15.56\n",
      "Iterating over the transient of 10000 steps\n",
      "    Done in 0.05 s\n",
      "Iterating over the attractor of 10000 steps\n",
      "    Done in 0.48 s\n",
      "Generating initial conditions\n",
      "    Done in 0.00 s\n",
      "Calculating the Jacobian Matrix for each point\n"
     ]
    },
    {
     "name": "stderr",
     "output_type": "stream",
     "text": [
      "  2%|███                                                                                                                                                                                               | 159/10000 [00:00<00:12, 794.56it/s]"
     ]
    },
    {
     "name": "stdout",
     "output_type": "stream",
     "text": [
      "    Done in 1.48 s\n",
      "System set up for analysis\n",
      "Calculating the Lyapunov Exponents\n"
     ]
    },
    {
     "name": "stderr",
     "output_type": "stream",
     "text": [
      "100%|████████████████████████████████████████████████████████████████████████████████████████████████████████████████████████████████████████████████████████████████████████████████████████████████| 10000/10000 [00:12<00:00, 788.89it/s]\n"
     ]
    },
    {
     "name": "stdout",
     "output_type": "stream",
     "text": [
      "This took 13.02 seconds to run\n",
      "This took 13.37 seconds to run\n",
      "2/100 in 15.43\n",
      "Iterating over the transient of 10000 steps\n",
      "    Done in 0.05 s\n",
      "Iterating over the attractor of 10000 steps\n",
      "    Done in 0.46 s\n",
      "Generating initial conditions\n",
      "    Done in 0.00 s\n",
      "Calculating the Jacobian Matrix for each point\n"
     ]
    },
    {
     "name": "stderr",
     "output_type": "stream",
     "text": [
      "  1%|█▌                                                                                                                                                                                                 | 80/10000 [00:00<00:12, 792.08it/s]"
     ]
    },
    {
     "name": "stdout",
     "output_type": "stream",
     "text": [
      "    Done in 1.53 s\n",
      "System set up for analysis\n",
      "Calculating the Lyapunov Exponents\n"
     ]
    },
    {
     "name": "stderr",
     "output_type": "stream",
     "text": [
      "100%|████████████████████████████████████████████████████████████████████████████████████████████████████████████████████████████████████████████████████████████████████████████████████████████████| 10000/10000 [00:12<00:00, 788.33it/s]\n"
     ]
    },
    {
     "name": "stdout",
     "output_type": "stream",
     "text": [
      "This took 13.03 seconds to run\n",
      "This took 13.39 seconds to run\n",
      "3/100 in 15.47\n",
      "Iterating over the transient of 10000 steps\n",
      "    Done in 0.06 s\n",
      "Iterating over the attractor of 10000 steps\n",
      "    Done in 0.50 s\n",
      "Generating initial conditions\n",
      "    Done in 0.00 s\n",
      "Calculating the Jacobian Matrix for each point\n"
     ]
    },
    {
     "name": "stderr",
     "output_type": "stream",
     "text": [
      "  1%|█▌                                                                                                                                                                                                 | 78/10000 [00:00<00:12, 772.29it/s]"
     ]
    },
    {
     "name": "stdout",
     "output_type": "stream",
     "text": [
      "    Done in 1.55 s\n",
      "System set up for analysis\n",
      "Calculating the Lyapunov Exponents\n"
     ]
    },
    {
     "name": "stderr",
     "output_type": "stream",
     "text": [
      "100%|████████████████████████████████████████████████████████████████████████████████████████████████████████████████████████████████████████████████████████████████████████████████████████████████| 10000/10000 [00:12<00:00, 769.47it/s]\n"
     ]
    },
    {
     "name": "stdout",
     "output_type": "stream",
     "text": [
      "This took 13.34 seconds to run\n",
      "This took 13.69 seconds to run\n",
      "4/100 in 15.85\n",
      "Iterating over the transient of 10000 steps\n",
      "    Done in 0.05 s\n",
      "Iterating over the attractor of 10000 steps\n",
      "    Done in 0.47 s\n",
      "Generating initial conditions\n",
      "    Done in 0.00 s\n",
      "Calculating the Jacobian Matrix for each point\n"
     ]
    },
    {
     "name": "stderr",
     "output_type": "stream",
     "text": [
      "  1%|█▌                                                                                                                                                                                                 | 80/10000 [00:00<00:12, 792.08it/s]"
     ]
    },
    {
     "name": "stdout",
     "output_type": "stream",
     "text": [
      "    Done in 1.55 s\n",
      "System set up for analysis\n",
      "Calculating the Lyapunov Exponents\n"
     ]
    },
    {
     "name": "stderr",
     "output_type": "stream",
     "text": [
      "100%|████████████████████████████████████████████████████████████████████████████████████████████████████████████████████████████████████████████████████████████████████████████████████████████████| 10000/10000 [00:12<00:00, 781.19it/s]\n"
     ]
    },
    {
     "name": "stdout",
     "output_type": "stream",
     "text": [
      "This took 13.16 seconds to run\n",
      "This took 13.52 seconds to run\n",
      "5/100 in 15.64\n",
      "Iterating over the transient of 10000 steps\n",
      "    Done in 0.05 s\n",
      "Iterating over the attractor of 10000 steps\n",
      "    Done in 0.42 s\n",
      "Generating initial conditions\n",
      "    Done in 0.00 s\n",
      "Calculating the Jacobian Matrix for each point\n"
     ]
    },
    {
     "name": "stderr",
     "output_type": "stream",
     "text": [
      "  2%|███                                                                                                                                                                                               | 160/10000 [00:00<00:12, 798.43it/s]"
     ]
    },
    {
     "name": "stdout",
     "output_type": "stream",
     "text": [
      "    Done in 1.50 s\n",
      "System set up for analysis\n",
      "Calculating the Lyapunov Exponents\n"
     ]
    },
    {
     "name": "stderr",
     "output_type": "stream",
     "text": [
      "100%|████████████████████████████████████████████████████████████████████████████████████████████████████████████████████████████████████████████████████████████████████████████████████████████████| 10000/10000 [00:12<00:00, 795.17it/s]\n"
     ]
    },
    {
     "name": "stdout",
     "output_type": "stream",
     "text": [
      "This took 12.92 seconds to run\n",
      "This took 13.26 seconds to run\n",
      "6/100 in 15.29\n",
      "Iterating over the transient of 10000 steps\n",
      "    Done in 0.06 s\n",
      "Iterating over the attractor of 10000 steps\n",
      "    Done in 0.41 s\n",
      "Generating initial conditions\n",
      "    Done in 0.00 s\n",
      "Calculating the Jacobian Matrix for each point\n"
     ]
    },
    {
     "name": "stderr",
     "output_type": "stream",
     "text": [
      "  1%|█▌                                                                                                                                                                                                 | 80/10000 [00:00<00:12, 792.08it/s]"
     ]
    },
    {
     "name": "stdout",
     "output_type": "stream",
     "text": [
      "    Done in 1.55 s\n",
      "System set up for analysis\n",
      "Calculating the Lyapunov Exponents\n"
     ]
    },
    {
     "name": "stderr",
     "output_type": "stream",
     "text": [
      "100%|████████████████████████████████████████████████████████████████████████████████████████████████████████████████████████████████████████████████████████████████████████████████████████████████| 10000/10000 [00:12<00:00, 792.95it/s]\n"
     ]
    },
    {
     "name": "stdout",
     "output_type": "stream",
     "text": [
      "This took 12.96 seconds to run\n",
      "This took 13.31 seconds to run\n",
      "7/100 in 15.38\n",
      "Iterating over the transient of 10000 steps\n",
      "    Done in 0.05 s\n",
      "Iterating over the attractor of 10000 steps\n",
      "    Done in 0.42 s\n",
      "Generating initial conditions\n",
      "    Done in 0.00 s\n",
      "Calculating the Jacobian Matrix for each point\n"
     ]
    },
    {
     "name": "stderr",
     "output_type": "stream",
     "text": [
      "  1%|█▌                                                                                                                                                                                                 | 79/10000 [00:00<00:12, 789.76it/s]"
     ]
    },
    {
     "name": "stdout",
     "output_type": "stream",
     "text": [
      "    Done in 1.51 s\n",
      "System set up for analysis\n",
      "Calculating the Lyapunov Exponents\n"
     ]
    },
    {
     "name": "stderr",
     "output_type": "stream",
     "text": [
      "100%|████████████████████████████████████████████████████████████████████████████████████████████████████████████████████████████████████████████████████████████████████████████████████████████████| 10000/10000 [00:12<00:00, 795.26it/s]\n"
     ]
    },
    {
     "name": "stdout",
     "output_type": "stream",
     "text": [
      "This took 12.94 seconds to run\n",
      "This took 13.31 seconds to run\n",
      "8/100 in 15.34\n",
      "Iterating over the transient of 10000 steps\n",
      "    Done in 0.05 s\n",
      "Iterating over the attractor of 10000 steps\n",
      "    Done in 0.47 s\n",
      "Generating initial conditions\n",
      "    Done in 0.00 s\n",
      "Calculating the Jacobian Matrix for each point\n"
     ]
    },
    {
     "name": "stderr",
     "output_type": "stream",
     "text": [
      "  1%|█▌                                                                                                                                                                                                 | 78/10000 [00:00<00:12, 779.76it/s]"
     ]
    },
    {
     "name": "stdout",
     "output_type": "stream",
     "text": [
      "    Done in 1.55 s\n",
      "System set up for analysis\n",
      "Calculating the Lyapunov Exponents\n"
     ]
    },
    {
     "name": "stderr",
     "output_type": "stream",
     "text": [
      "100%|████████████████████████████████████████████████████████████████████████████████████████████████████████████████████████████████████████████████████████████████████████████████████████████████| 10000/10000 [00:12<00:00, 789.13it/s]\n"
     ]
    },
    {
     "name": "stdout",
     "output_type": "stream",
     "text": [
      "This took 13.03 seconds to run\n",
      "This took 13.40 seconds to run\n",
      "9/100 in 15.52\n",
      "Iterating over the transient of 10000 steps\n",
      "    Done in 0.06 s\n",
      "Iterating over the attractor of 10000 steps\n",
      "    Done in 0.42 s\n",
      "Generating initial conditions\n",
      "    Done in 0.00 s\n",
      "Calculating the Jacobian Matrix for each point\n"
     ]
    },
    {
     "name": "stderr",
     "output_type": "stream",
     "text": [
      "  2%|███                                                                                                                                                                                               | 157/10000 [00:00<00:12, 778.34it/s]"
     ]
    },
    {
     "name": "stdout",
     "output_type": "stream",
     "text": [
      "    Done in 1.53 s\n",
      "System set up for analysis\n",
      "Calculating the Lyapunov Exponents\n"
     ]
    },
    {
     "name": "stderr",
     "output_type": "stream",
     "text": [
      "100%|████████████████████████████████████████████████████████████████████████████████████████████████████████████████████████████████████████████████████████████████████████████████████████████████| 10000/10000 [00:12<00:00, 792.99it/s]\n"
     ]
    },
    {
     "name": "stdout",
     "output_type": "stream",
     "text": [
      "This took 12.98 seconds to run\n",
      "This took 13.35 seconds to run\n",
      "10/100 in 15.42\n",
      "Iterating over the transient of 10000 steps\n",
      "    Done in 0.05 s\n",
      "Iterating over the attractor of 10000 steps\n",
      "    Done in 0.39 s\n",
      "Generating initial conditions\n",
      "    Done in 0.00 s\n",
      "Calculating the Jacobian Matrix for each point\n"
     ]
    },
    {
     "name": "stderr",
     "output_type": "stream",
     "text": [
      "  1%|█▌                                                                                                                                                                                                 | 79/10000 [00:00<00:12, 789.94it/s]"
     ]
    },
    {
     "name": "stdout",
     "output_type": "stream",
     "text": [
      "    Done in 1.52 s\n",
      "System set up for analysis\n",
      "Calculating the Lyapunov Exponents\n"
     ]
    },
    {
     "name": "stderr",
     "output_type": "stream",
     "text": [
      "100%|████████████████████████████████████████████████████████████████████████████████████████████████████████████████████████████████████████████████████████████████████████████████████████████████| 10000/10000 [00:12<00:00, 790.14it/s]\n"
     ]
    },
    {
     "name": "stdout",
     "output_type": "stream",
     "text": [
      "This took 13.00 seconds to run\n",
      "This took 13.36 seconds to run\n",
      "11/100 in 15.38\n",
      "Iterating over the transient of 10000 steps\n",
      "    Done in 0.05 s\n",
      "Iterating over the attractor of 10000 steps\n",
      "    Done in 0.55 s\n",
      "Generating initial conditions\n",
      "    Done in 0.00 s\n",
      "Calculating the Jacobian Matrix for each point\n"
     ]
    },
    {
     "name": "stderr",
     "output_type": "stream",
     "text": [
      "  1%|█▌                                                                                                                                                                                                 | 79/10000 [00:00<00:12, 782.16it/s]"
     ]
    },
    {
     "name": "stdout",
     "output_type": "stream",
     "text": [
      "    Done in 1.54 s\n",
      "System set up for analysis\n",
      "Calculating the Lyapunov Exponents\n"
     ]
    },
    {
     "name": "stderr",
     "output_type": "stream",
     "text": [
      "100%|████████████████████████████████████████████████████████████████████████████████████████████████████████████████████████████████████████████████████████████████████████████████████████████████| 10000/10000 [00:12<00:00, 791.28it/s]\n"
     ]
    },
    {
     "name": "stdout",
     "output_type": "stream",
     "text": [
      "This took 12.98 seconds to run\n",
      "This took 13.34 seconds to run\n",
      "12/100 in 15.52\n",
      "Iterating over the transient of 10000 steps\n",
      "    Done in 0.06 s\n",
      "Iterating over the attractor of 10000 steps\n",
      "    Done in 0.57 s\n",
      "Generating initial conditions\n",
      "    Done in 0.00 s\n",
      "Calculating the Jacobian Matrix for each point\n"
     ]
    },
    {
     "name": "stderr",
     "output_type": "stream",
     "text": [
      "  1%|█▌                                                                                                                                                                                                 | 81/10000 [00:00<00:12, 809.74it/s]"
     ]
    },
    {
     "name": "stdout",
     "output_type": "stream",
     "text": [
      "    Done in 1.53 s\n",
      "System set up for analysis\n",
      "Calculating the Lyapunov Exponents\n"
     ]
    },
    {
     "name": "stderr",
     "output_type": "stream",
     "text": [
      "100%|████████████████████████████████████████████████████████████████████████████████████████████████████████████████████████████████████████████████████████████████████████████████████████████████| 10000/10000 [00:12<00:00, 790.25it/s]\n"
     ]
    },
    {
     "name": "stdout",
     "output_type": "stream",
     "text": [
      "This took 13.00 seconds to run\n",
      "This took 13.35 seconds to run\n",
      "13/100 in 15.56\n",
      "Iterating over the transient of 10000 steps\n",
      "    Done in 0.05 s\n",
      "Iterating over the attractor of 10000 steps\n",
      "    Done in 0.47 s\n",
      "Generating initial conditions\n",
      "    Done in 0.00 s\n",
      "Calculating the Jacobian Matrix for each point\n"
     ]
    },
    {
     "name": "stderr",
     "output_type": "stream",
     "text": [
      "  1%|█▌                                                                                                                                                                                                 | 80/10000 [00:00<00:12, 799.77it/s]"
     ]
    },
    {
     "name": "stdout",
     "output_type": "stream",
     "text": [
      "    Done in 1.51 s\n",
      "System set up for analysis\n",
      "Calculating the Lyapunov Exponents\n"
     ]
    },
    {
     "name": "stderr",
     "output_type": "stream",
     "text": [
      "100%|████████████████████████████████████████████████████████████████████████████████████████████████████████████████████████████████████████████████████████████████████████████████████████████████| 10000/10000 [00:12<00:00, 798.99it/s]\n"
     ]
    },
    {
     "name": "stdout",
     "output_type": "stream",
     "text": [
      "This took 12.86 seconds to run\n",
      "This took 13.21 seconds to run\n",
      "14/100 in 15.30\n",
      "Iterating over the transient of 10000 steps\n",
      "    Done in 0.05 s\n",
      "Iterating over the attractor of 10000 steps\n",
      "    Done in 0.46 s\n",
      "Generating initial conditions\n",
      "    Done in 0.00 s\n",
      "Calculating the Jacobian Matrix for each point\n"
     ]
    },
    {
     "name": "stderr",
     "output_type": "stream",
     "text": [
      "  1%|█▌                                                                                                                                                                                                 | 81/10000 [00:00<00:12, 809.44it/s]"
     ]
    },
    {
     "name": "stdout",
     "output_type": "stream",
     "text": [
      "    Done in 1.49 s\n",
      "System set up for analysis\n",
      "Calculating the Lyapunov Exponents\n"
     ]
    },
    {
     "name": "stderr",
     "output_type": "stream",
     "text": [
      "100%|████████████████████████████████████████████████████████████████████████████████████████████████████████████████████████████████████████████████████████████████████████████████████████████████| 10000/10000 [00:12<00:00, 798.58it/s]\n"
     ]
    },
    {
     "name": "stdout",
     "output_type": "stream",
     "text": [
      "This took 12.87 seconds to run\n",
      "This took 13.22 seconds to run\n",
      "15/100 in 15.27\n",
      "Iterating over the transient of 10000 steps\n",
      "    Done in 0.06 s\n",
      "Iterating over the attractor of 10000 steps\n",
      "    Done in 0.40 s\n",
      "Generating initial conditions\n",
      "    Done in 0.00 s\n",
      "Calculating the Jacobian Matrix for each point\n"
     ]
    },
    {
     "name": "stderr",
     "output_type": "stream",
     "text": [
      "  2%|███                                                                                                                                                                                               | 160/10000 [00:00<00:12, 799.82it/s]"
     ]
    },
    {
     "name": "stdout",
     "output_type": "stream",
     "text": [
      "    Done in 1.55 s\n",
      "System set up for analysis\n",
      "Calculating the Lyapunov Exponents\n"
     ]
    },
    {
     "name": "stderr",
     "output_type": "stream",
     "text": [
      "100%|████████████████████████████████████████████████████████████████████████████████████████████████████████████████████████████████████████████████████████████████████████████████████████████████| 10000/10000 [00:12<00:00, 799.23it/s]\n"
     ]
    },
    {
     "name": "stdout",
     "output_type": "stream",
     "text": [
      "This took 12.86 seconds to run\n",
      "This took 13.21 seconds to run\n",
      "16/100 in 15.26\n",
      "Iterating over the transient of 10000 steps\n",
      "    Done in 0.05 s\n",
      "Iterating over the attractor of 10000 steps\n",
      "    Done in 0.40 s\n",
      "Generating initial conditions\n",
      "    Done in 0.00 s\n",
      "Calculating the Jacobian Matrix for each point\n"
     ]
    },
    {
     "name": "stderr",
     "output_type": "stream",
     "text": [
      "  1%|█▌                                                                                                                                                                                                 | 81/10000 [00:00<00:12, 809.94it/s]"
     ]
    },
    {
     "name": "stdout",
     "output_type": "stream",
     "text": [
      "    Done in 1.51 s\n",
      "System set up for analysis\n",
      "Calculating the Lyapunov Exponents\n"
     ]
    },
    {
     "name": "stderr",
     "output_type": "stream",
     "text": [
      "100%|████████████████████████████████████████████████████████████████████████████████████████████████████████████████████████████████████████████████████████████████████████████████████████████████| 10000/10000 [00:12<00:00, 786.16it/s]\n"
     ]
    },
    {
     "name": "stdout",
     "output_type": "stream",
     "text": [
      "This took 13.12 seconds to run\n",
      "This took 13.50 seconds to run\n",
      "17/100 in 15.52\n",
      "Iterating over the transient of 10000 steps\n",
      "    Done in 0.05 s\n",
      "Iterating over the attractor of 10000 steps\n",
      "    Done in 0.61 s\n",
      "Generating initial conditions\n",
      "    Done in 0.00 s\n",
      "Calculating the Jacobian Matrix for each point\n"
     ]
    },
    {
     "name": "stderr",
     "output_type": "stream",
     "text": [
      "  1%|█▌                                                                                                                                                                                                 | 78/10000 [00:00<00:12, 772.28it/s]"
     ]
    },
    {
     "name": "stdout",
     "output_type": "stream",
     "text": [
      "    Done in 1.55 s\n",
      "System set up for analysis\n",
      "Calculating the Lyapunov Exponents\n"
     ]
    },
    {
     "name": "stderr",
     "output_type": "stream",
     "text": [
      "100%|████████████████████████████████████████████████████████████████████████████████████████████████████████████████████████████████████████████████████████████████████████████████████████████████| 10000/10000 [00:12<00:00, 788.65it/s]\n"
     ]
    },
    {
     "name": "stdout",
     "output_type": "stream",
     "text": [
      "This took 13.05 seconds to run\n",
      "This took 13.42 seconds to run\n",
      "18/100 in 15.68\n",
      "Iterating over the transient of 10000 steps\n",
      "    Done in 0.06 s\n",
      "Iterating over the attractor of 10000 steps\n",
      "    Done in 0.47 s\n",
      "Generating initial conditions\n",
      "    Done in 0.00 s\n",
      "Calculating the Jacobian Matrix for each point\n"
     ]
    },
    {
     "name": "stderr",
     "output_type": "stream",
     "text": [
      "  1%|█▌                                                                                                                                                                                                 | 78/10000 [00:00<00:12, 780.00it/s]"
     ]
    },
    {
     "name": "stdout",
     "output_type": "stream",
     "text": [
      "    Done in 1.54 s\n",
      "System set up for analysis\n",
      "Calculating the Lyapunov Exponents\n"
     ]
    },
    {
     "name": "stderr",
     "output_type": "stream",
     "text": [
      "100%|████████████████████████████████████████████████████████████████████████████████████████████████████████████████████████████████████████████████████████████████████████████████████████████████| 10000/10000 [00:12<00:00, 786.16it/s]\n"
     ]
    },
    {
     "name": "stdout",
     "output_type": "stream",
     "text": [
      "This took 13.10 seconds to run\n",
      "This took 13.47 seconds to run\n",
      "19/100 in 15.60\n",
      "Iterating over the transient of 10000 steps\n",
      "    Done in 0.05 s\n",
      "Iterating over the attractor of 10000 steps\n",
      "    Done in 0.45 s\n",
      "Generating initial conditions\n",
      "    Done in 0.00 s\n",
      "Calculating the Jacobian Matrix for each point\n"
     ]
    },
    {
     "name": "stderr",
     "output_type": "stream",
     "text": [
      "  2%|███                                                                                                                                                                                               | 160/10000 [00:00<00:12, 797.44it/s]"
     ]
    },
    {
     "name": "stdout",
     "output_type": "stream",
     "text": [
      "    Done in 1.52 s\n",
      "System set up for analysis\n",
      "Calculating the Lyapunov Exponents\n"
     ]
    },
    {
     "name": "stderr",
     "output_type": "stream",
     "text": [
      "100%|████████████████████████████████████████████████████████████████████████████████████████████████████████████████████████████████████████████████████████████████████████████████████████████████| 10000/10000 [00:12<00:00, 793.33it/s]\n"
     ]
    },
    {
     "name": "stdout",
     "output_type": "stream",
     "text": [
      "This took 12.98 seconds to run\n",
      "This took 13.37 seconds to run\n",
      "20/100 in 15.45\n",
      "Iterating over the transient of 10000 steps\n",
      "    Done in 0.05 s\n",
      "Iterating over the attractor of 10000 steps\n",
      "    Done in 0.41 s\n",
      "Generating initial conditions\n",
      "    Done in 0.00 s\n",
      "Calculating the Jacobian Matrix for each point\n"
     ]
    },
    {
     "name": "stderr",
     "output_type": "stream",
     "text": [
      "  1%|█▌                                                                                                                                                                                                 | 80/10000 [00:00<00:12, 799.95it/s]"
     ]
    },
    {
     "name": "stdout",
     "output_type": "stream",
     "text": [
      "    Done in 1.51 s\n",
      "System set up for analysis\n",
      "Calculating the Lyapunov Exponents\n"
     ]
    },
    {
     "name": "stderr",
     "output_type": "stream",
     "text": [
      " 18%|██████████████████████████████████▏                                                                                                                                                              | 1769/10000 [00:02<00:10, 800.53it/s]"
     ]
    }
   ],
   "source": [
    "i = 0\n",
    "for lblock,ablock in list(itertools.product(lblocked,ablocked))[:]:\n",
    "    t0 = time.time()\n",
    "    i += 1\n",
    "\n",
    "    xi,yi,lblock,ablock = np.meshgrid(x,y,lblock,ablock)\n",
    "    \n",
    "    system = gl.system(xi,yi,lblock,ablock,n_transient,n_attractor)\n",
    "    system.calcLyapunov()\n",
    "    lyapunov_1.loc[yi[:,0,0,0],xi[0,:,0,0],lblock[0,0,:,0],ablock[0,0,0,:]] = system.lyapunov_1\n",
    "    lyapunov_2.loc[yi[:,0,0,0],xi[0,:,0,0],lblock[0,0,:,0],ablock[0,0,0,:]] = system.lyapunov_2\n",
    "    del system\n",
    "    print(f'{i}/{lblocks*ablocks} in {time.time()-t0:.2f}')"
   ]
  },
  {
   "cell_type": "code",
   "execution_count": null,
   "metadata": {},
   "outputs": [],
   "source": [
    "# Python program to  \n",
    "# demonstrate speed comparison \n",
    "# between cupy and numpy \n",
    "  \n",
    "# Importing modules \n",
    "import cupy as cp \n",
    "import numpy as np \n",
    "import time \n",
    "  \n",
    "# NumPy and CPU Runtime \n",
    "s = time.time() \n",
    "x_cpu = np.ones((1000, 1000, 100)) \n",
    "x_cpu = x_cpu**2 - 14*x_cpu*np.exp(x_cpu)\n",
    "e = time.time() \n",
    "print(\"Time consumed by numpy: \", e - s) \n",
    "  \n",
    "# CuPy and GPU Runtime \n",
    "s = time.time() \n",
    "x_cpu = cp.ones((100, 100, 100))\n",
    "x_cpu = x_cpu**2 - 14*x_cpu*cp.exp(x_cpu)\n",
    "e = time.time() \n",
    "print(\"\\nTime consumed by cupy: \", e - s) "
   ]
  }
 ],
 "metadata": {
  "kernelspec": {
   "display_name": "Python 3",
   "language": "python",
   "name": "python3"
  },
  "language_info": {
   "codemirror_mode": {
    "name": "ipython",
    "version": 3
   },
   "file_extension": ".py",
   "mimetype": "text/x-python",
   "name": "python",
   "nbconvert_exporter": "python",
   "pygments_lexer": "ipython3",
   "version": "3.8.2"
  }
 },
 "nbformat": 4,
 "nbformat_minor": 4
}
