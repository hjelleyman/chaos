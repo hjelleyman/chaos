{
 "cells": [
  {
   "cell_type": "markdown",
   "metadata": {},
   "source": [
    "# Accelerated\n",
    "\n",
    "Trying to use Cupy to accelerate the code."
   ]
  },
  {
   "cell_type": "code",
   "execution_count": 1,
   "metadata": {},
   "outputs": [],
   "source": [
    "import numpy as np\n",
    "import xarray as xr\n",
    "import itertools\n",
    "import time\n",
    "\n",
    "from modules import *\n",
    "\n",
    "%load_ext autoreload\n",
    "%autoreload 2"
   ]
  },
  {
   "cell_type": "code",
   "execution_count": 9,
   "metadata": {},
   "outputs": [],
   "source": [
    "amin = 0.5\n",
    "amax = 1\n",
    "lmin = 0.5\n",
    "lmax = 1\n",
    "da = 0.01\n",
    "dl =0.01 \n",
    "ablocks = 8\n",
    "lblocks = 8"
   ]
  },
  {
   "cell_type": "code",
   "execution_count": 10,
   "metadata": {},
   "outputs": [],
   "source": [
    "x = np.linspace(-10,10,10)\n",
    "y = np.linspace(0,10,5)\n",
    "\n",
    "l = np.arange(lmin,lmax,dl)\n",
    "a = np.arange(amin,amax,da)\n",
    "\n",
    "n_transient = 10000\n",
    "n_attractor = 10000"
   ]
  },
  {
   "cell_type": "code",
   "execution_count": 11,
   "metadata": {},
   "outputs": [],
   "source": [
    "lblocked, ablocked = main.block_la(l,a,lblocks,ablocks)\n",
    "\n",
    "lyapunov_1 = xr.DataArray(np.zeros([len(x),len(y),len(l),len(a)]),coords={'x':x,'y':y,'l':l,'a':a}, dims = ['x', 'y', 'l', 'a'])\n",
    "lyapunov_2 = xr.DataArray(np.zeros([len(x),len(y),len(l),len(a)]),coords={'x':x,'y':y,'l':l,'a':a}, dims = ['x', 'y', 'l', 'a'])"
   ]
  },
  {
   "cell_type": "code",
   "execution_count": null,
   "metadata": {},
   "outputs": [
    {
     "name": "stdout",
     "output_type": "stream",
     "text": [
      "Iterating over the transient of 10000 steps\n",
      "    Done in 0.06 s\n",
      "Iterating over the attractor of 10000 steps\n",
      "    Done in 0.26 s\n",
      "Generating initial conditions\n",
      "    Done in 0.00 s\n",
      "Calculating the Jacobian Matrix for each point\n"
     ]
    },
    {
     "name": "stderr",
     "output_type": "stream",
     "text": [
      "  2%|████▍                                                                                                                                                                                            | 231/10000 [00:00<00:08, 1160.59it/s]"
     ]
    },
    {
     "name": "stdout",
     "output_type": "stream",
     "text": [
      "    Done in 1.09 s\n",
      "System set up for analysis\n",
      "Calculating the Lyapunov Exponents\n"
     ]
    },
    {
     "name": "stderr",
     "output_type": "stream",
     "text": [
      "100%|███████████████████████████████████████████████████████████████████████████████████████████████████████████████████████████████████████████████████████████████████████████████████████████████| 10000/10000 [00:08<00:00, 1126.63it/s]\n"
     ]
    },
    {
     "name": "stdout",
     "output_type": "stream",
     "text": [
      "This took 9.12 seconds to run\n",
      "This took 9.37 seconds to run\n",
      "1/64 in 10.85\n",
      "Iterating over the transient of 10000 steps\n",
      "    Done in 0.04 s\n",
      "Iterating over the attractor of 10000 steps\n",
      "    Done in 0.27 s\n",
      "Generating initial conditions\n",
      "    Done in 0.00 s\n",
      "Calculating the Jacobian Matrix for each point\n"
     ]
    },
    {
     "name": "stderr",
     "output_type": "stream",
     "text": [
      "  2%|████▍                                                                                                                                                                                            | 229/10000 [00:00<00:08, 1143.52it/s]"
     ]
    },
    {
     "name": "stdout",
     "output_type": "stream",
     "text": [
      "    Done in 1.07 s\n",
      "System set up for analysis\n",
      "Calculating the Lyapunov Exponents\n"
     ]
    },
    {
     "name": "stderr",
     "output_type": "stream",
     "text": [
      "100%|███████████████████████████████████████████████████████████████████████████████████████████████████████████████████████████████████████████████████████████████████████████████████████████████| 10000/10000 [00:08<00:00, 1137.68it/s]\n"
     ]
    },
    {
     "name": "stdout",
     "output_type": "stream",
     "text": [
      "This took 9.03 seconds to run\n",
      "This took 9.27 seconds to run\n",
      "2/64 in 10.70\n",
      "Iterating over the transient of 10000 steps\n",
      "    Done in 0.04 s\n",
      "Iterating over the attractor of 10000 steps\n",
      "    Done in 0.29 s\n",
      "Generating initial conditions\n",
      "    Done in 0.00 s\n",
      "Calculating the Jacobian Matrix for each point\n"
     ]
    },
    {
     "name": "stderr",
     "output_type": "stream",
     "text": [
      "  1%|██▎                                                                                                                                                                                              | 120/10000 [00:00<00:08, 1188.12it/s]"
     ]
    },
    {
     "name": "stdout",
     "output_type": "stream",
     "text": [
      "    Done in 1.08 s\n",
      "System set up for analysis\n",
      "Calculating the Lyapunov Exponents\n"
     ]
    },
    {
     "name": "stderr",
     "output_type": "stream",
     "text": [
      "100%|███████████████████████████████████████████████████████████████████████████████████████████████████████████████████████████████████████████████████████████████████████████████████████████████| 10000/10000 [00:08<00:00, 1142.46it/s]\n"
     ]
    },
    {
     "name": "stdout",
     "output_type": "stream",
     "text": [
      "This took 9.00 seconds to run\n",
      "This took 9.25 seconds to run\n",
      "3/64 in 10.70\n",
      "Iterating over the transient of 10000 steps\n",
      "    Done in 0.04 s\n",
      "Iterating over the attractor of 10000 steps\n",
      "    Done in 0.28 s\n",
      "Generating initial conditions\n",
      "    Done in 0.00 s\n",
      "Calculating the Jacobian Matrix for each point\n"
     ]
    },
    {
     "name": "stderr",
     "output_type": "stream",
     "text": [
      "  2%|███▊                                                                                                                                                                                              | 196/10000 [00:00<00:10, 979.77it/s]"
     ]
    },
    {
     "name": "stdout",
     "output_type": "stream",
     "text": [
      "    Done in 1.27 s\n",
      "System set up for analysis\n",
      "Calculating the Lyapunov Exponents\n"
     ]
    },
    {
     "name": "stderr",
     "output_type": "stream",
     "text": [
      "100%|████████████████████████████████████████████████████████████████████████████████████████████████████████████████████████████████████████████████████████████████████████████████████████████████| 10000/10000 [00:10<00:00, 945.11it/s]\n"
     ]
    },
    {
     "name": "stdout",
     "output_type": "stream",
     "text": [
      "This took 10.87 seconds to run\n",
      "This took 11.15 seconds to run\n",
      "4/64 in 12.79\n",
      "Iterating over the transient of 10000 steps\n",
      "    Done in 0.05 s\n",
      "Iterating over the attractor of 10000 steps\n",
      "    Done in 0.27 s\n",
      "Generating initial conditions\n",
      "    Done in 0.00 s\n",
      "Calculating the Jacobian Matrix for each point\n"
     ]
    },
    {
     "name": "stderr",
     "output_type": "stream",
     "text": [
      "  1%|██▏                                                                                                                                                                                              | 113/10000 [00:00<00:08, 1129.98it/s]"
     ]
    },
    {
     "name": "stdout",
     "output_type": "stream",
     "text": [
      "    Done in 1.11 s\n",
      "System set up for analysis\n",
      "Calculating the Lyapunov Exponents\n"
     ]
    },
    {
     "name": "stderr",
     "output_type": "stream",
     "text": [
      "100%|███████████████████████████████████████████████████████████████████████████████████████████████████████████████████████████████████████████████████████████████████████████████████████████████| 10000/10000 [00:08<00:00, 1136.52it/s]\n"
     ]
    },
    {
     "name": "stdout",
     "output_type": "stream",
     "text": [
      "This took 9.05 seconds to run\n",
      "This took 9.29 seconds to run\n",
      "5/64 in 10.78\n",
      "Iterating over the transient of 10000 steps\n",
      "    Done in 0.04 s\n",
      "Iterating over the attractor of 10000 steps\n",
      "    Done in 0.28 s\n",
      "Generating initial conditions\n",
      "    Done in 0.00 s\n",
      "Calculating the Jacobian Matrix for each point\n"
     ]
    },
    {
     "name": "stderr",
     "output_type": "stream",
     "text": [
      "  2%|████▌                                                                                                                                                                                            | 235/10000 [00:00<00:08, 1176.73it/s]"
     ]
    },
    {
     "name": "stdout",
     "output_type": "stream",
     "text": [
      "    Done in 1.11 s\n",
      "System set up for analysis\n",
      "Calculating the Lyapunov Exponents\n"
     ]
    },
    {
     "name": "stderr",
     "output_type": "stream",
     "text": [
      "100%|███████████████████████████████████████████████████████████████████████████████████████████████████████████████████████████████████████████████████████████████████████████████████████████████| 10000/10000 [00:08<00:00, 1146.70it/s]\n"
     ]
    },
    {
     "name": "stdout",
     "output_type": "stream",
     "text": [
      "This took 8.97 seconds to run\n",
      "This took 9.21 seconds to run\n",
      "6/64 in 10.69\n",
      "Iterating over the transient of 10000 steps\n",
      "    Done in 0.04 s\n",
      "Iterating over the attractor of 10000 steps\n",
      "    Done in 0.28 s\n",
      "Generating initial conditions\n",
      "    Done in 0.00 s\n",
      "Calculating the Jacobian Matrix for each point\n"
     ]
    },
    {
     "name": "stderr",
     "output_type": "stream",
     "text": [
      "  1%|██▎                                                                                                                                                                                              | 118/10000 [00:00<00:08, 1168.34it/s]"
     ]
    },
    {
     "name": "stdout",
     "output_type": "stream",
     "text": [
      "    Done in 1.07 s\n",
      "System set up for analysis\n",
      "Calculating the Lyapunov Exponents\n"
     ]
    },
    {
     "name": "stderr",
     "output_type": "stream",
     "text": [
      "100%|███████████████████████████████████████████████████████████████████████████████████████████████████████████████████████████████████████████████████████████████████████████████████████████████| 10000/10000 [00:08<00:00, 1153.13it/s]\n"
     ]
    },
    {
     "name": "stdout",
     "output_type": "stream",
     "text": [
      "This took 8.93 seconds to run\n",
      "This took 9.18 seconds to run\n",
      "7/64 in 10.61\n",
      "Iterating over the transient of 10000 steps\n",
      "    Done in 0.04 s\n",
      "Iterating over the attractor of 10000 steps\n",
      "    Done in 0.27 s\n",
      "Generating initial conditions\n",
      "    Done in 0.00 s\n",
      "Calculating the Jacobian Matrix for each point\n"
     ]
    },
    {
     "name": "stderr",
     "output_type": "stream",
     "text": [
      "  1%|█▉                                                                                                                                                                                                 | 99/10000 [00:00<00:10, 989.70it/s]"
     ]
    },
    {
     "name": "stdout",
     "output_type": "stream",
     "text": [
      "    Done in 1.30 s\n",
      "System set up for analysis\n",
      "Calculating the Lyapunov Exponents\n"
     ]
    },
    {
     "name": "stderr",
     "output_type": "stream",
     "text": [
      "100%|████████████████████████████████████████████████████████████████████████████████████████████████████████████████████████████████████████████████████████████████████████████████████████████████| 10000/10000 [00:10<00:00, 933.16it/s]\n"
     ]
    },
    {
     "name": "stdout",
     "output_type": "stream",
     "text": [
      "This took 11.02 seconds to run\n",
      "This took 11.31 seconds to run\n",
      "8/64 in 12.97\n",
      "Iterating over the transient of 10000 steps\n",
      "    Done in 0.05 s\n",
      "Iterating over the attractor of 10000 steps\n",
      "    Done in 0.25 s\n",
      "Generating initial conditions\n",
      "    Done in 0.00 s\n",
      "Calculating the Jacobian Matrix for each point\n"
     ]
    },
    {
     "name": "stderr",
     "output_type": "stream",
     "text": [
      "  2%|████▍                                                                                                                                                                                            | 233/10000 [00:00<00:08, 1174.29it/s]"
     ]
    },
    {
     "name": "stdout",
     "output_type": "stream",
     "text": [
      "    Done in 1.16 s\n",
      "System set up for analysis\n",
      "Calculating the Lyapunov Exponents\n"
     ]
    },
    {
     "name": "stderr",
     "output_type": "stream",
     "text": [
      "100%|███████████████████████████████████████████████████████████████████████████████████████████████████████████████████████████████████████████████████████████████████████████████████████████████| 10000/10000 [00:08<00:00, 1137.08it/s]\n"
     ]
    },
    {
     "name": "stdout",
     "output_type": "stream",
     "text": [
      "This took 9.05 seconds to run\n",
      "This took 9.29 seconds to run\n",
      "9/64 in 10.80\n",
      "Iterating over the transient of 10000 steps\n",
      "    Done in 0.04 s\n",
      "Iterating over the attractor of 10000 steps\n",
      "    Done in 0.29 s\n",
      "Generating initial conditions\n",
      "    Done in 0.00 s\n",
      "Calculating the Jacobian Matrix for each point\n"
     ]
    },
    {
     "name": "stderr",
     "output_type": "stream",
     "text": [
      "  1%|██▏                                                                                                                                                                                              | 115/10000 [00:00<00:08, 1149.89it/s]"
     ]
    },
    {
     "name": "stdout",
     "output_type": "stream",
     "text": [
      "    Done in 1.08 s\n",
      "System set up for analysis\n",
      "Calculating the Lyapunov Exponents\n"
     ]
    },
    {
     "name": "stderr",
     "output_type": "stream",
     "text": [
      "100%|███████████████████████████████████████████████████████████████████████████████████████████████████████████████████████████████████████████████████████████████████████████████████████████████| 10000/10000 [00:08<00:00, 1136.74it/s]\n"
     ]
    },
    {
     "name": "stdout",
     "output_type": "stream",
     "text": [
      "This took 9.05 seconds to run\n",
      "This took 9.30 seconds to run\n",
      "10/64 in 10.74\n",
      "Iterating over the transient of 10000 steps\n",
      "    Done in 0.04 s\n",
      "Iterating over the attractor of 10000 steps\n",
      "    Done in 0.30 s\n",
      "Generating initial conditions\n",
      "    Done in 0.00 s\n",
      "Calculating the Jacobian Matrix for each point\n"
     ]
    },
    {
     "name": "stderr",
     "output_type": "stream",
     "text": [
      "  2%|████▍                                                                                                                                                                                            | 232/10000 [00:00<00:08, 1159.76it/s]"
     ]
    },
    {
     "name": "stdout",
     "output_type": "stream",
     "text": [
      "    Done in 1.09 s\n",
      "System set up for analysis\n",
      "Calculating the Lyapunov Exponents\n"
     ]
    },
    {
     "name": "stderr",
     "output_type": "stream",
     "text": [
      "100%|███████████████████████████████████████████████████████████████████████████████████████████████████████████████████████████████████████████████████████████████████████████████████████████████| 10000/10000 [00:08<00:00, 1138.43it/s]\n"
     ]
    },
    {
     "name": "stdout",
     "output_type": "stream",
     "text": [
      "This took 9.03 seconds to run\n",
      "This took 9.27 seconds to run\n",
      "11/64 in 10.75\n",
      "Iterating over the transient of 10000 steps\n",
      "    Done in 0.04 s\n",
      "Iterating over the attractor of 10000 steps\n",
      "    Done in 0.26 s\n",
      "Generating initial conditions\n",
      "    Done in 0.00 s\n",
      "Calculating the Jacobian Matrix for each point\n"
     ]
    },
    {
     "name": "stderr",
     "output_type": "stream",
     "text": [
      "  2%|███▉                                                                                                                                                                                              | 201/10000 [00:00<00:09, 997.16it/s]"
     ]
    },
    {
     "name": "stdout",
     "output_type": "stream",
     "text": [
      "    Done in 1.27 s\n",
      "System set up for analysis\n",
      "Calculating the Lyapunov Exponents\n"
     ]
    },
    {
     "name": "stderr",
     "output_type": "stream",
     "text": [
      "100%|████████████████████████████████████████████████████████████████████████████████████████████████████████████████████████████████████████████████████████████████████████████████████████████████| 10000/10000 [00:10<00:00, 948.32it/s]\n"
     ]
    },
    {
     "name": "stdout",
     "output_type": "stream",
     "text": [
      "This took 10.84 seconds to run\n",
      "This took 11.13 seconds to run\n",
      "12/64 in 12.74\n",
      "Iterating over the transient of 10000 steps\n",
      "    Done in 0.05 s\n",
      "Iterating over the attractor of 10000 steps\n",
      "    Done in 0.30 s\n",
      "Generating initial conditions\n",
      "    Done in 0.00 s\n",
      "Calculating the Jacobian Matrix for each point\n"
     ]
    },
    {
     "name": "stderr",
     "output_type": "stream",
     "text": [
      "  2%|████▍                                                                                                                                                                                            | 232/10000 [00:00<00:08, 1160.39it/s]"
     ]
    },
    {
     "name": "stdout",
     "output_type": "stream",
     "text": [
      "    Done in 1.15 s\n",
      "System set up for analysis\n",
      "Calculating the Lyapunov Exponents\n"
     ]
    },
    {
     "name": "stderr",
     "output_type": "stream",
     "text": [
      "100%|███████████████████████████████████████████████████████████████████████████████████████████████████████████████████████████████████████████████████████████████████████████████████████████████| 10000/10000 [00:08<00:00, 1135.07it/s]\n"
     ]
    },
    {
     "name": "stdout",
     "output_type": "stream",
     "text": [
      "This took 9.06 seconds to run\n",
      "This took 9.34 seconds to run\n",
      "13/64 in 10.89\n",
      "Iterating over the transient of 10000 steps\n",
      "    Done in 0.04 s\n",
      "Iterating over the attractor of 10000 steps\n",
      "    Done in 0.67 s\n",
      "Generating initial conditions\n",
      "    Done in 0.00 s\n",
      "Calculating the Jacobian Matrix for each point\n"
     ]
    },
    {
     "name": "stderr",
     "output_type": "stream",
     "text": [
      "  1%|█▉                                                                                                                                                                                                 | 99/10000 [00:00<00:10, 980.20it/s]"
     ]
    },
    {
     "name": "stdout",
     "output_type": "stream",
     "text": [
      "    Done in 1.42 s\n",
      "System set up for analysis\n",
      "Calculating the Lyapunov Exponents\n"
     ]
    },
    {
     "name": "stderr",
     "output_type": "stream",
     "text": [
      "100%|███████████████████████████████████████████████████████████████████████████████████████████████████████████████████████████████████████████████████████████████████████████████████████████████| 10000/10000 [00:09<00:00, 1013.58it/s]\n"
     ]
    },
    {
     "name": "stdout",
     "output_type": "stream",
     "text": [
      "This took 10.12 seconds to run\n",
      "This took 10.37 seconds to run\n",
      "14/64 in 12.54\n",
      "Iterating over the transient of 10000 steps\n",
      "    Done in 0.04 s\n",
      "Iterating over the attractor of 10000 steps\n",
      "    Done in 0.28 s\n",
      "Generating initial conditions\n",
      "    Done in 0.00 s\n",
      "Calculating the Jacobian Matrix for each point\n"
     ]
    },
    {
     "name": "stderr",
     "output_type": "stream",
     "text": [
      "  2%|████▍                                                                                                                                                                                            | 232/10000 [00:00<00:08, 1156.30it/s]"
     ]
    },
    {
     "name": "stdout",
     "output_type": "stream",
     "text": [
      "    Done in 1.09 s\n",
      "System set up for analysis\n",
      "Calculating the Lyapunov Exponents\n"
     ]
    },
    {
     "name": "stderr",
     "output_type": "stream",
     "text": [
      "100%|███████████████████████████████████████████████████████████████████████████████████████████████████████████████████████████████████████████████████████████████████████████████████████████████| 10000/10000 [00:08<00:00, 1128.01it/s]\n"
     ]
    },
    {
     "name": "stdout",
     "output_type": "stream",
     "text": [
      "This took 9.13 seconds to run\n",
      "This took 9.39 seconds to run\n",
      "15/64 in 10.84\n",
      "Iterating over the transient of 10000 steps\n",
      "    Done in 0.04 s\n",
      "Iterating over the attractor of 10000 steps\n",
      "    Done in 0.26 s\n",
      "Generating initial conditions\n",
      "    Done in 0.00 s\n",
      "Calculating the Jacobian Matrix for each point\n"
     ]
    },
    {
     "name": "stderr",
     "output_type": "stream",
     "text": [
      "  1%|█▉                                                                                                                                                                                                 | 99/10000 [00:00<00:10, 989.98it/s]"
     ]
    },
    {
     "name": "stdout",
     "output_type": "stream",
     "text": [
      "    Done in 1.30 s\n",
      "System set up for analysis\n",
      "Calculating the Lyapunov Exponents\n"
     ]
    },
    {
     "name": "stderr",
     "output_type": "stream",
     "text": [
      "100%|████████████████████████████████████████████████████████████████████████████████████████████████████████████████████████████████████████████████████████████████████████████████████████████████| 10000/10000 [00:11<00:00, 874.31it/s]\n"
     ]
    },
    {
     "name": "stdout",
     "output_type": "stream",
     "text": [
      "This took 11.75 seconds to run\n",
      "This took 12.06 seconds to run\n",
      "16/64 in 13.71\n",
      "Iterating over the transient of 10000 steps\n",
      "    Done in 0.05 s\n",
      "Iterating over the attractor of 10000 steps\n",
      "    Done in 0.33 s\n",
      "Generating initial conditions\n",
      "    Done in 0.00 s\n",
      "Calculating the Jacobian Matrix for each point\n"
     ]
    },
    {
     "name": "stderr",
     "output_type": "stream",
     "text": [
      "  1%|██▏                                                                                                                                                                                              | 112/10000 [00:00<00:08, 1120.00it/s]"
     ]
    },
    {
     "name": "stdout",
     "output_type": "stream",
     "text": [
      "    Done in 1.12 s\n",
      "System set up for analysis\n",
      "Calculating the Lyapunov Exponents\n"
     ]
    },
    {
     "name": "stderr",
     "output_type": "stream",
     "text": [
      "100%|███████████████████████████████████████████████████████████████████████████████████████████████████████████████████████████████████████████████████████████████████████████████████████████████| 10000/10000 [00:08<00:00, 1131.19it/s]\n"
     ]
    },
    {
     "name": "stdout",
     "output_type": "stream",
     "text": [
      "This took 9.08 seconds to run\n",
      "This took 9.33 seconds to run\n",
      "17/64 in 10.88\n",
      "Iterating over the transient of 10000 steps\n",
      "    Done in 0.04 s\n",
      "Iterating over the attractor of 10000 steps\n",
      "    Done in 0.40 s\n",
      "Generating initial conditions\n",
      "    Done in 0.00 s\n",
      "Calculating the Jacobian Matrix for each point\n"
     ]
    },
    {
     "name": "stderr",
     "output_type": "stream",
     "text": [
      "  2%|████▏                                                                                                                                                                                            | 220/10000 [00:00<00:08, 1088.20it/s]"
     ]
    },
    {
     "name": "stdout",
     "output_type": "stream",
     "text": [
      "    Done in 1.15 s\n",
      "System set up for analysis\n",
      "Calculating the Lyapunov Exponents\n"
     ]
    },
    {
     "name": "stderr",
     "output_type": "stream",
     "text": [
      "100%|███████████████████████████████████████████████████████████████████████████████████████████████████████████████████████████████████████████████████████████████████████████████████████████████| 10000/10000 [00:08<00:00, 1138.20it/s]\n"
     ]
    },
    {
     "name": "stdout",
     "output_type": "stream",
     "text": [
      "This took 9.05 seconds to run\n",
      "This took 9.31 seconds to run\n",
      "18/64 in 10.94\n",
      "Iterating over the transient of 10000 steps\n",
      "    Done in 0.05 s\n",
      "Iterating over the attractor of 10000 steps\n",
      "    Done in 0.29 s\n",
      "Generating initial conditions\n",
      "    Done in 0.00 s\n",
      "Calculating the Jacobian Matrix for each point\n"
     ]
    },
    {
     "name": "stderr",
     "output_type": "stream",
     "text": [
      "  1%|██▏                                                                                                                                                                                              | 112/10000 [00:00<00:08, 1119.97it/s]"
     ]
    },
    {
     "name": "stdout",
     "output_type": "stream",
     "text": [
      "    Done in 1.28 s\n",
      "System set up for analysis\n",
      "Calculating the Lyapunov Exponents\n"
     ]
    },
    {
     "name": "stderr",
     "output_type": "stream",
     "text": [
      "  5%|█████████▏                                                                                                                                                                                        | 472/10000 [00:00<00:09, 964.76it/s]"
     ]
    }
   ],
   "source": [
    "i = 0\n",
    "for lblock,ablock in list(itertools.product(lblocked,ablocked))[:]:\n",
    "    t0 = time.time()\n",
    "    i += 1\n",
    "\n",
    "    xi,yi,lblock,ablock = np.meshgrid(x,y,lblock,ablock)\n",
    "    \n",
    "    system = gl.system(xi,yi,lblock,ablock,n_transient,n_attractor)\n",
    "    system.calcLyapunov()\n",
    "    lyapunov_1.loc[xi[:,0,0,0],yi[0,:,0,0],lblock[0,0,:,0],ablock[0,0,0,:]] = system.lyapunov_1\n",
    "    lyapunov_2.loc[xi[:,0,0,0],yi[0,:,0,0],lblock[0,0,:,0],ablock[0,0,0,:]] = system.lyapunov_2\n",
    "    del system\n",
    "    print(f'{i}/{lblocks*ablocks} in {time.time()-t0:.2f}')"
   ]
  },
  {
   "cell_type": "code",
   "execution_count": null,
   "metadata": {},
   "outputs": [],
   "source": [
    "# Python program to  \n",
    "# demonstrate speed comparison \n",
    "# between cupy and numpy \n",
    "  \n",
    "# Importing modules \n",
    "import cupy as cp \n",
    "import numpy as np \n",
    "import time \n",
    "  \n",
    "# NumPy and CPU Runtime \n",
    "s = time.time() \n",
    "x_cpu = np.ones((1000, 1000, 100)) \n",
    "x_cpu = x_cpu**2 - 14*x_cpu*np.exp(x_cpu)\n",
    "e = time.time() \n",
    "print(\"Time consumed by numpy: \", e - s) \n",
    "  \n",
    "# CuPy and GPU Runtime \n",
    "s = time.time() \n",
    "x_cpu = cp.ones((100, 100, 100))\n",
    "x_cpu = x_cpu**2 - 14*x_cpu*cp.exp(x_cpu)\n",
    "e = time.time() \n",
    "print(\"\\nTime consumed by cupy: \", e - s) "
   ]
  }
 ],
 "metadata": {
  "kernelspec": {
   "display_name": "Python 3",
   "language": "python",
   "name": "python3"
  },
  "language_info": {
   "codemirror_mode": {
    "name": "ipython",
    "version": 3
   },
   "file_extension": ".py",
   "mimetype": "text/x-python",
   "name": "python",
   "nbconvert_exporter": "python",
   "pygments_lexer": "ipython3",
   "version": "3.8.2"
  }
 },
 "nbformat": 4,
 "nbformat_minor": 4
}
