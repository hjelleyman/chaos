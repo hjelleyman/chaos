{
 "cells": [
  {
   "cell_type": "code",
   "execution_count": 1,
   "metadata": {},
   "outputs": [],
   "source": [
    "from modules.helper import *\n",
    "import modules.lyapunov as lyp\n",
    "%load_ext autoreload\n",
    "%autoreload 2\n",
    "\n",
    "import numpy as np\n",
    "import matplotlib.pyplot as plt\n",
    "import pandas as pd\n",
    "import xarray as xr\n",
    "\n",
    "tolerence = 1e-1\n",
    "imagefolder = 'images/'"
   ]
  },
  {
   "cell_type": "code",
   "execution_count": 5,
   "metadata": {},
   "outputs": [],
   "source": [
    "import modules.main as main\n",
    "import time"
   ]
  },
  {
   "cell_type": "code",
   "execution_count": null,
   "metadata": {},
   "outputs": [
    {
     "name": "stdout",
     "output_type": "stream",
     "text": [
      "Iterating over the transient of 1000 steps\n",
      "10% done iterating\n",
      "20% done iterating\n",
      "30% done iterating\n",
      "40% done iterating\n",
      "50% done iterating\n",
      "60% done iterating\n",
      "70% done iterating\n",
      "80% done iterating\n",
      "90% done iterating\n",
      "Iterating over the attractor of 100 steps\n",
      "10% done iterating\n",
      "20% done iterating\n",
      "30% done iterating\n",
      "40% done iterating\n",
      "50% done iterating\n",
      "60% done iterating\n",
      "70% done iterating\n",
      "80% done iterating\n",
      "90% done iterating\n",
      "Generating initial conditions\n",
      "Calculating the Jacobian Matrix for each point\n",
      "System set up for analysis\n",
      "Calculating the Lyapunov Exponents\n",
      "0% done iterating\n",
      "10% done iterating\n",
      "20% done iterating\n",
      "30% done iterating\n",
      "40% done iterating\n",
      "50% done iterating\n",
      "60% done iterating\n",
      "70% done iterating\n",
      "80% done iterating\n",
      "90% done iterating\n",
      "This took 0.13 seconds to run\n",
      "Iterating over the transient of 1000 steps\n"
     ]
    }
   ],
   "source": [
    "start = time.time()\n",
    "l1,l2 = main.main()\n",
    "print(f'Total run time:\\t{time.time()-start:.2f}')"
   ]
  },
  {
   "cell_type": "code",
   "execution_count": 26,
   "metadata": {},
   "outputs": [
    {
     "data": {
      "text/plain": [
       "<xarray.DataArray (x: 10, y: 10, l: 90, a: 130)>\n",
       "array([[[[-0.123855, ...,  0.      ],\n",
       "         ...,\n",
       "         [ 0.      , ...,  0.      ]],\n",
       "\n",
       "        ...,\n",
       "\n",
       "        [[ 0.      , ...,  0.      ],\n",
       "         ...,\n",
       "         [ 0.      , ...,  0.      ]]],\n",
       "\n",
       "\n",
       "       ...,\n",
       "\n",
       "\n",
       "       [[[ 0.      , ...,  0.      ],\n",
       "         ...,\n",
       "         [ 0.      , ...,  0.      ]],\n",
       "\n",
       "        ...,\n",
       "\n",
       "        [[ 0.      , ...,  0.      ],\n",
       "         ...,\n",
       "         [ 0.      , ...,  0.      ]]]])\n",
       "Coordinates:\n",
       "  * x        (x) float64 -10.0 -7.778 -5.556 -3.333 ... 3.333 5.556 7.778 10.0\n",
       "  * y        (y) float64 -10.0 -7.778 -5.556 -3.333 ... 3.333 5.556 7.778 10.0\n",
       "  * l        (l) float64 0.1 0.11 0.12 0.13 0.14 ... 0.95 0.96 0.97 0.98 0.99\n",
       "  * a        (a) float64 0.7 0.71 0.72 0.73 0.74 ... 1.95 1.96 1.97 1.98 1.99"
      ]
     },
     "execution_count": 26,
     "metadata": {},
     "output_type": "execute_result"
    }
   ],
   "source": [
    "l1"
   ]
  }
 ],
 "metadata": {
  "kernelspec": {
   "display_name": "Python 3",
   "language": "python",
   "name": "python3"
  },
  "language_info": {
   "codemirror_mode": {
    "name": "ipython",
    "version": 3
   },
   "file_extension": ".py",
   "mimetype": "text/x-python",
   "name": "python",
   "nbconvert_exporter": "python",
   "pygments_lexer": "ipython3",
   "version": "3.7.4"
  }
 },
 "nbformat": 4,
 "nbformat_minor": 4
}
