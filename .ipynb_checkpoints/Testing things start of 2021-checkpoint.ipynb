{
 "cells": [
  {
   "cell_type": "markdown",
   "metadata": {},
   "source": [
    "If you take, say, 1+i as initial condition, how many iterates do you need so that you are close enough to q for the Floquet multipliers to give you the eigenvalues accurate to, say, 4 decimal places? "
   ]
  },
  {
   "cell_type": "code",
   "execution_count": null,
   "metadata": {},
   "outputs": [],
   "source": [
    "import numpy as np\n",
    "import xarray as xr\n",
    "import itertools\n",
    "import time\n",
    "\n",
    "from modules import *\n",
    "\n",
    "%load_ext autoreload\n",
    "%autoreload 2"
   ]
  },
  {
   "cell_type": "code",
   "execution_count": null,
   "metadata": {},
   "outputs": [],
   "source": [
    "amin = 0.5\n",
    "amax = 1\n",
    "lmin = 0.5\n",
    "lmax = 1\n",
    "da = 0.01\n",
    "dl =0.01 \n",
    "ablocks = 8\n",
    "lblocks = 8"
   ]
  },
  {
   "cell_type": "code",
   "execution_count": null,
   "metadata": {},
   "outputs": [],
   "source": [
    "x = np.linspace(-10,10,10)\n",
    "y = np.linspace(0,10,5)\n",
    "\n",
    "l = np.array([1])\n",
    "a = np.array([1])\n",
    "\n",
    "n_transients = np.array([1,10,100,1000,10000,100000,1000000,10000000])\n",
    "n_attractors = [int(1e6)]"
   ]
  },
  {
   "cell_type": "code",
   "execution_count": null,
   "metadata": {},
   "outputs": [],
   "source": [
    "lyapunov_1 = xr.DataArray(np.zeros([len(x),len(y),len(l),len(a)]),coords={'x':x,'y':y,'l':l,'a':a}, dims = ['x', 'y', 'l', 'a'])\n",
    "lyapunov_2 = xr.DataArray(np.zeros([len(x),len(y),len(l),len(a)]),coords={'x':x,'y':y,'l':l,'a':a}, dims = ['x', 'y', 'l', 'a'])"
   ]
  },
  {
   "cell_type": "code",
   "execution_count": null,
   "metadata": {},
   "outputs": [],
   "source": [
    "i = 0\n",
    "for n_transient,n_attractor in list(itertools.product(n_transients,n_attractors))[:]:\n",
    "    t0 = time.time()\n",
    "    i += 1\n",
    "\n",
    "    xi,yi,lblock,ablock = np.meshgrid(x,y,l,a)\n",
    "    \n",
    "    system = gl.system(xi,yi,l,a,n_transient,n_attractor)\n",
    "    system.calcLyapunov()\n",
    "    lyapunov_1.loc[xi[:,0,0,0],yi[0,:,0,0],l[0,0,:,0],a[0,0,0,:]] = system.lyapunov_1\n",
    "    lyapunov_2.loc[xi[:,0,0,0],yi[0,:,0,0],l[0,0,:,0],a[0,0,0,:]] = system.lyapunov_2\n",
    "    del system\n",
    "    print(f'{i}/{lblocks*ablocks} in {time.time()-t0:.2f}')"
   ]
  }
 ],
 "metadata": {
  "kernelspec": {
   "display_name": "Python 3",
   "language": "python",
   "name": "python3"
  },
  "language_info": {
   "name": ""
  }
 },
 "nbformat": 4,
 "nbformat_minor": 4
}
