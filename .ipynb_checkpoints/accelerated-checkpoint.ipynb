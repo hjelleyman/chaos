{
 "cells": [
  {
   "cell_type": "markdown",
   "metadata": {},
   "source": [
    "# Accelerated\n",
    "\n",
    "Trying to use Cupy to accelerate the code."
   ]
  },
  {
   "cell_type": "code",
   "execution_count": 3,
   "metadata": {},
   "outputs": [
    {
     "ename": "TabError",
     "evalue": "inconsistent use of tabs and spaces in indentation (gpu_lyapunov.py, line 28)",
     "output_type": "error",
     "traceback": [
      "Traceback \u001b[1;36m(most recent call last)\u001b[0m:\n",
      "  File \u001b[0;32m\"C:\\Users\\hjel867\\AppData\\Local\\Continuum\\anaconda3\\envs\\chaos\\lib\\site-packages\\IPython\\core\\interactiveshell.py\"\u001b[0m, line \u001b[0;32m3343\u001b[0m, in \u001b[0;35mrun_code\u001b[0m\n    exec(code_obj, self.user_global_ns, self.user_ns)\n",
      "  File \u001b[0;32m\"<ipython-input-3-90fdb2339774>\"\u001b[0m, line \u001b[0;32m6\u001b[0m, in \u001b[0;35m<module>\u001b[0m\n    from modules import *\n",
      "\u001b[1;36m  File \u001b[1;32m\"H:\\Github\\chaos\\modules\\__init__.py\"\u001b[1;36m, line \u001b[1;32m2\u001b[1;36m, in \u001b[1;35m<module>\u001b[1;36m\u001b[0m\n\u001b[1;33m    from modules import gpu_lyapunov as gl\u001b[0m\n",
      "\u001b[1;36m  File \u001b[1;32m\"H:\\Github\\chaos\\modules\\gpu_lyapunov.py\"\u001b[1;36m, line \u001b[1;32m28\u001b[0m\n\u001b[1;33m    newy = (2 * x* y *(l* ((x**2 + y**2)**(a/2) - 1) + 1))/(x**2 + y**2)\u001b[0m\n\u001b[1;37m                                                                        ^\u001b[0m\n\u001b[1;31mTabError\u001b[0m\u001b[1;31m:\u001b[0m inconsistent use of tabs and spaces in indentation\n"
     ]
    }
   ],
   "source": [
    "import numpy as np\n",
    "import xarray as xr\n",
    "import itertools\n",
    "import time\n",
    "\n",
    "from modules import *\n",
    "\n",
    "%load_ext autoreload\n",
    "%autoreload 2"
   ]
  },
  {
   "cell_type": "code",
   "execution_count": null,
   "metadata": {},
   "outputs": [],
   "source": [
    "amin = 0.5\n",
    "amax = 1\n",
    "lmin = 0.5\n",
    "lmax = 1\n",
    "da = 0.01\n",
    "dl =0.01 \n",
    "ablocks = 20\n",
    "lblocks = 20"
   ]
  },
  {
   "cell_type": "code",
   "execution_count": null,
   "metadata": {},
   "outputs": [],
   "source": [
    "x = np.linspace(-10,10,10)\n",
    "y = np.linspace(-10,10,10)\n",
    "\n",
    "l = np.arange(lmin,lmax,dl)\n",
    "a = np.arange(amin,amax,da)\n",
    "\n",
    "n_transient = 10000\n",
    "n_attractor = 10000"
   ]
  },
  {
   "cell_type": "code",
   "execution_count": null,
   "metadata": {},
   "outputs": [],
   "source": [
    "lblocked, ablocked = main.block_la(l,a,lblocks,ablocks)\n",
    "\n",
    "lyapunov_1 = xr.DataArray(np.zeros([len(x),len(y),len(l),len(a)]),coords={'x':x,'y':y,'l':l,'a':a}, dims = ['x', 'y', 'l', 'a'])\n",
    "lyapunov_2 = xr.DataArray(np.zeros([len(x),len(y),len(l),len(a)]),coords={'x':x,'y':y,'l':l,'a':a}, dims = ['x', 'y', 'l', 'a'])"
   ]
  },
  {
   "cell_type": "code",
   "execution_count": null,
   "metadata": {},
   "outputs": [],
   "source": [
    "i = 0\n",
    "for lblock,ablock in list(itertools.product(lblocked,ablocked))[:]:\n",
    "    t0 = time.time()\n",
    "    i += 1\n",
    "\n",
    "    xi,yi,lblock,ablock = np.meshgrid(x,y,lblock,ablock)\n",
    "    \n",
    "    system = gl.system(xi,yi,lblock,ablock,n_transient,n_attractor)\n",
    "    system.calcLyapunov()\n",
    "    lyapunov_1.loc[yi[:,0,0,0],xi[0,:,0,0],lblock[0,0,:,0],ablock[0,0,0,:]] = system.lyapunov_1\n",
    "    lyapunov_2.loc[yi[:,0,0,0],xi[0,:,0,0],lblock[0,0,:,0],ablock[0,0,0,:]] = system.lyapunov_2\n",
    "    del system\n",
    "    print(f'{i}/{lblocks*ablocks} in {time.time()-t0:.2f}')"
   ]
  },
  {
   "cell_type": "code",
   "execution_count": null,
   "metadata": {},
   "outputs": [],
   "source": [
    "# Python program to  \n",
    "# demonstrate speed comparison \n",
    "# between cupy and numpy \n",
    "  \n",
    "# Importing modules \n",
    "import cupy as cp \n",
    "import numpy as np \n",
    "import time \n",
    "  \n",
    "# NumPy and CPU Runtime \n",
    "s = time.time() \n",
    "x_cpu = np.ones((1000, 1000, 100)) \n",
    "x_cpu = x_cpu**2 - 14*x_cpu*np.exp(x_cpu)\n",
    "e = time.time() \n",
    "print(\"Time consumed by numpy: \", e - s) \n",
    "  \n",
    "# CuPy and GPU Runtime \n",
    "s = time.time() \n",
    "x_cpu = cp.ones((100, 100, 100))\n",
    "x_cpu = x_cpu**2 - 14*x_cpu*cp.exp(x_cpu)\n",
    "e = time.time() \n",
    "print(\"\\nTime consumed by cupy: \", e - s) "
   ]
  }
 ],
 "metadata": {
  "kernelspec": {
   "display_name": "Python 3",
   "language": "python",
   "name": "python3"
  },
  "language_info": {
   "codemirror_mode": {
    "name": "ipython",
    "version": 3
   },
   "file_extension": ".py",
   "mimetype": "text/x-python",
   "name": "python",
   "nbconvert_exporter": "python",
   "pygments_lexer": "ipython3",
   "version": "3.7.6"
  }
 },
 "nbformat": 4,
 "nbformat_minor": 4
}
