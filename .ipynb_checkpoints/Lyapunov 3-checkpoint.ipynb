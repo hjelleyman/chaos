{
 "cells": [
  {
   "cell_type": "code",
   "execution_count": 1,
   "metadata": {},
   "outputs": [],
   "source": [
    "from modules.helper import *\n",
    "import modules.lyapunov as lyp\n",
    "%load_ext autoreload\n",
    "%autoreload 2"
   ]
  },
  {
   "cell_type": "code",
   "execution_count": null,
   "metadata": {},
   "outputs": [
    {
     "name": "stdout",
     "output_type": "stream",
     "text": [
      "Iterating over the transient of 1000000 steps\n",
      "    Done in 109.90 s\n",
      "Iterating over the attractor of 10000 steps\n",
      "    Done in 2.81 s\n",
      "Generating initial conditions\n",
      "    Done in 0.00 s\n",
      "Calculating the Jacobian Matrix for each point\n"
     ]
    }
   ],
   "source": [
    "import numpy as np\n",
    "import matplotlib.pyplot as plt\n",
    "import pandas as pd\n",
    "import xarray as xr\n",
    "\n",
    "tolerence = 1e-1\n",
    "imagefolder = 'images/'\n",
    "\n",
    "import modules.main as main\n",
    "import time\n",
    "\n",
    "start = time.time()\n",
    "l1,l2 = main.main(amin = 0.7, amax = 2, lmin = 0.1, lmax = 1, da = 0.01, dl =0.01, ablocks = 10, lblocks = 10, n_transient = 1e6, n_attractor = 1e4)\n",
    "print(f'Total run time:\\t{time.time()-start:.2f}')"
   ]
  },
  {
   "cell_type": "code",
   "execution_count": null,
   "metadata": {},
   "outputs": [],
   "source": [
    "l1.name = 'l1'\n",
    "l2.name = 'l2'\n",
    "plt.figure()\n",
    "plt.title('Mean first Lyapunov Exponent')\n",
    "l1.mean(axis=(0,1)).plot()\n",
    "plt.savefig(imagefolder + 'Mean_lyapunov1.pdf')\n",
    "plt.show()\n",
    "\n",
    "plt.figure()\n",
    "l2.mean(axis=(0,1)).plot()\n",
    "plt.savefig(imagefolder + 'Mean_lyapunov_sum_12.pdf')\n",
    "plt.show()\n",
    "\n",
    "plt.figure()\n",
    "(l2-l1).mean(axis=(0,1)).plot()\n",
    "plt.show()"
   ]
  },
  {
   "cell_type": "code",
   "execution_count": null,
   "metadata": {},
   "outputs": [],
   "source": [
    "l1.to_netcdf('data/lyapunov1_large_6_4_highres.nc')\n",
    "l2.to_netcdf('data/lyapunov2_large_6_4_highres.nc')"
   ]
  },
  {
   "cell_type": "code",
   "execution_count": 4,
   "metadata": {},
   "outputs": [
    {
     "data": {
      "text/plain": [
       "(<xarray.DataArray '__xarray_dataarray_variable__' (x: 10, y: 10, l: 50, a: 50)>\n",
       " [250000 values with dtype=float64]\n",
       " Coordinates:\n",
       "   * x        (x) float64 -10.0 -7.778 -5.556 -3.333 ... 3.333 5.556 7.778 10.0\n",
       "   * y        (y) float64 -10.0 -7.778 -5.556 -3.333 ... 3.333 5.556 7.778 10.0\n",
       "   * l        (l) float64 0.5 0.51 0.52 0.53 0.54 ... 0.95 0.96 0.97 0.98 0.99\n",
       "   * a        (a) float64 0.5 0.51 0.52 0.53 0.54 ... 0.95 0.96 0.97 0.98 0.99,\n",
       " <xarray.DataArray '__xarray_dataarray_variable__' (x: 10, y: 10, l: 50, a: 50)>\n",
       " [250000 values with dtype=float64]\n",
       " Coordinates:\n",
       "   * x        (x) float64 -10.0 -7.778 -5.556 -3.333 ... 3.333 5.556 7.778 10.0\n",
       "   * y        (y) float64 -10.0 -7.778 -5.556 -3.333 ... 3.333 5.556 7.778 10.0\n",
       "   * l        (l) float64 0.5 0.51 0.52 0.53 0.54 ... 0.95 0.96 0.97 0.98 0.99\n",
       "   * a        (a) float64 0.5 0.51 0.52 0.53 0.54 ... 0.95 0.96 0.97 0.98 0.99)"
      ]
     },
     "execution_count": 4,
     "metadata": {},
     "output_type": "execute_result"
    }
   ],
   "source": [
    "l1 = xr.open_dataset('data/lyapunov1_large_6_4_highres.nc').__xarray_dataarray_variable__\n",
    "l2 = xr.open_dataset('data/lyapunov2_large_6_4_highres.nc').__xarray_dataarray_variable__\n",
    "l1, l2"
   ]
  },
  {
   "cell_type": "code",
   "execution_count": null,
   "metadata": {},
   "outputs": [],
   "source": []
  },
  {
   "cell_type": "code",
   "execution_count": null,
   "metadata": {},
   "outputs": [],
   "source": [
    "stacked1 = l1.stack(z=('x','y','l','a'))\n",
    "stacked2 = l2.stack(z=('x','y','l','a'))\n",
    "stacked1 = stacked1.to_pandas()\n",
    "stacked1 = stacked1.reset_index()\n",
    "stacked1.columns = ['x_0', 'y_0', 'lambda', 'a', 'lyapunov1']\n",
    "stacked1['lyapunov_sum_12'] = stacked2.values\n",
    "stacked1.to_csv('data/full_data.dat', index = False)"
   ]
  }
 ],
 "metadata": {
  "kernelspec": {
   "display_name": "Python 3",
   "language": "python",
   "name": "python3"
  },
  "language_info": {
   "codemirror_mode": {
    "name": "ipython",
    "version": 3
   },
   "file_extension": ".py",
   "mimetype": "text/x-python",
   "name": "python",
   "nbconvert_exporter": "python",
   "pygments_lexer": "ipython3",
   "version": "3.8.2"
  }
 },
 "nbformat": 4,
 "nbformat_minor": 4
}
